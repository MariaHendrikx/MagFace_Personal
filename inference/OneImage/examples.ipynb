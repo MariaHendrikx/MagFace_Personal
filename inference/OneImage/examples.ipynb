{
 "cells": [
  {
   "attachments": {},
   "cell_type": "markdown",
   "metadata": {},
   "source": [
    "# generate feature list\n",
    "```\n",
    "<!-- python3 gen_feat.py --inf_list toy_imgs/img.list --feat_list toy_imgs/feat.list --resume magface_epoch_00025.pth -->\n",
    "<!-- python3 gen_feat.py --inf_list toy_imgs/img.list --resume magface_epoch_00025.pth --cpu-mode -->\n",
    "python3 gen_feat.py --inf_list OneImage\\img.list --feat_list OneImage\\feat.list --resume magface_epoch_00025.pth --cpu-mode\n",
    "``"
   ]
  },
  {
   "cell_type": "code",
   "execution_count": 1,
   "metadata": {},
   "outputs": [],
   "source": [
    "import numpy as np\n",
    "import cv2\n",
    "from matplotlib import pyplot as plt\n",
    "import seaborn as sns\n",
    "sns.set(style=\"white\") \n",
    "%matplotlib inline"
   ]
  },
  {
   "attachments": {},
   "cell_type": "markdown",
   "metadata": {},
   "source": [
    "# Visualize magnitudes (qualities)"
   ]
  },
  {
   "cell_type": "code",
   "execution_count": 2,
   "metadata": {},
   "outputs": [],
   "source": [
    "def imshow(img):\n",
    "    plt.imshow(cv2.cvtColor(img, cv2.COLOR_BGR2RGB))\n",
    "def show(idx_):\n",
    "    imgname = imgnames[idx_]\n",
    "    img = cv2.imread(imgname)\n",
    "    imshow(img)\n",
    "    print(img_2_mag[imgname], imgname)\n",
    "\n",
    "with open('d04201/feat.list', 'r') as f:\n",
    "    lines = f.readlines()\n",
    "\n",
    "img_2_feats = {}\n",
    "img_2_mag = {}\n",
    "for line in lines:\n",
    "    parts = line.strip().split(' ')\n",
    "    imgname = parts[0]\n",
    "    feats = [float(e) for e in parts[1:]]\n",
    "    mag = np.linalg.norm(feats)\n",
    "    img_2_feats[imgname] = feats/mag\n",
    "    img_2_mag[imgname] = mag\n",
    "\n",
    "imgnames = list(img_2_mag.keys())\n",
    "mags = [img_2_mag[imgname] for imgname in imgnames]\n",
    "sort_idx = np.argsort(mags)\n",
    "\n",
    "H, W = 112, 112\n",
    "NH, NW = 1, 10\n",
    "canvas = np.zeros((NH * H, NW * W, 3), np.uint8)\n",
    "\n",
    "for i, ele in enumerate(sort_idx):\n",
    "    imgname = '/'.join(imgnames[ele].split('/')[-2:])\n",
    "    img = cv2.imread(imgname)\n",
    "    canvas[int(i / NW) * H: (int(i / NW) + 1) * H, (i % NW) * W: ((i % NW) + 1) * W, :] = img\n",
    "\n",
    "plt.figure(figsize=(20, 20))\n",
    "print([float('{0:.2f}'.format(mags[idx_])) for idx_ in sort_idx])\n",
    "imshow(canvas)"
   ]
  },
  {
   "attachments": {},
   "cell_type": "markdown",
   "metadata": {},
   "source": [
    "# visualize recognition"
   ]
  },
  {
   "cell_type": "code",
   "execution_count": 5,
   "metadata": {},
   "outputs": [],
   "source": [
    "feats = np.array([img_2_feats[imgnames[ele]] for ele in sort_idx])\n",
    "sim_mat = np.dot(feats, feats.T)\n",
    "\n",
    "fig, ax = plt.subplots(figsize=(8, 6))  \n",
    "ax = sns.heatmap(sim_mat, cmap=\"PuRd\", annot=True)"
   ]
  }
 ],
 "metadata": {
  "kernelspec": {
   "display_name": "Python 3.8.6 64-bit",
   "metadata": {
    "interpreter": {
     "hash": "1ee38ef4a5a9feb55287fd749643f13d043cb0a7addaab2a9c224cbe137c0062"
    }
   },
   "name": "python3"
  },
  "language_info": {
   "codemirror_mode": {
    "name": "ipython",
    "version": 3
   },
   "file_extension": ".py",
   "mimetype": "text/x-python",
   "name": "python",
   "nbconvert_exporter": "python",
   "pygments_lexer": "ipython3",
   "version": "3.10.11"
  }
 },
 "nbformat": 4,
 "nbformat_minor": 4
}
